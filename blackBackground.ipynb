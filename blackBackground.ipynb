{
 "cells": [
  {
   "cell_type": "code",
   "execution_count": 1,
   "metadata": {},
   "outputs": [
    {
     "name": "stderr",
     "output_type": "stream",
     "text": [
      "C:\\Users\\ASUS\\anaconda3\\lib\\site-packages\\numpy\\_distributor_init.py:30: UserWarning: loaded more than 1 DLL from .libs:\n",
      "C:\\Users\\ASUS\\anaconda3\\lib\\site-packages\\numpy\\.libs\\libopenblas.GK7GX5KEQ4F6UYO3P26ULGBQYHGQO7J4.gfortran-win_amd64.dll\n",
      "C:\\Users\\ASUS\\anaconda3\\lib\\site-packages\\numpy\\.libs\\libopenblas.PYQHXLVVQ7VESDPUVUADXEVJOBGHJPAY.gfortran-win_amd64.dll\n",
      "  warnings.warn(\"loaded more than 1 DLL from .libs:\"\n"
     ]
    }
   ],
   "source": [
    "import cv2\n",
    "import numpy as np \n",
    "import matplotlib.pyplot as plt"
   ]
  },
  {
   "cell_type": "code",
   "execution_count": null,
   "metadata": {},
   "outputs": [],
   "source": [
    "img = cv2.imread(r'C:\\Users\\ASUS\\Desktop\\our project\\Dataset\\axial - 8 slices\\Alzheimer_s Dataset\\train\\MildDemented\\mildDem2.jpg',cv2.IMREAD_COLOR)\n",
    "img1 = cv2.imread(r'C:\\Users\\ASUS\\Desktop\\our project\\Dataset\\axial - 8 slices\\Alzheimer_s Dataset\\train\\ModerateDemented\\moderateDem0.jpg',cv2.IMREAD_COLOR)\n",
    "img2 = cv2.imread(r'C:\\Users\\ASUS\\Desktop\\our project\\Dataset\\axial - 8 slices\\Alzheimer_s Dataset\\train\\NonDemented\\nonDem1.jpg',cv2.IMREAD_COLOR)\n",
    "img3 = cv2.imread(r'C:\\Users\\ASUS\\Desktop\\our project\\Dataset\\axial - 8 slices\\Alzheimer_s Dataset\\train\\VeryMildDemented\\verymildDem2.jpg',cv2.IMREAD_COLOR)\n",
    "copy = img.copy()\n",
    "copy1 = img1.copy()\n",
    "copy2 = img2.copy()\n",
    "copy3 = img3.copy()\n",
    "cv2.ellipse(copy,(87,100),(40,60),0,0,360,(0,0,0),-1)\n",
    "cv2.ellipse(copy1,(87,100),(40,60),0,0,360,(0,0,0),-1)\n",
    "cv2.ellipse(copy2,(87,100),(40,60),0,0,360,(0,0,0),-1)\n",
    "cv2.ellipse(copy3,(87,100),(40,60),0,0,360,(0,0,0),-1)\n",
    "low = np.array([40,40,40])\n",
    "high = np.array([120,120,120])\n",
    "mask = cv2.inRange(img,low,high)\n",
    "mask1 = cv2.inRange(img1,low,high)\n",
    "mask2 = cv2.inRange(img2,low,high)\n",
    "mask3 = cv2.inRange(img3,low,high)\n",
    "#plt.imshow(mask1,'gray')\n",
    "contours, hierarchy = cv2.findContours(mask, cv2.RETR_EXTERNAL, cv2.CHAIN_APPROX_NONE) \n",
    "contours1, hierarchy1 = cv2.findContours(mask1, cv2.RETR_EXTERNAL, cv2.CHAIN_APPROX_NONE)\n",
    "contours2, hierarchy2 = cv2.findContours(mask2, cv2.RETR_EXTERNAL, cv2.CHAIN_APPROX_NONE)\n",
    "contours3, hierarchy3 = cv2.findContours(mask3, cv2.RETR_EXTERNAL, cv2.CHAIN_APPROX_NONE)\n",
    "cont_img = cv2.drawContours(img, contours, -1, (255,0,0),1)\n",
    "cont_img1 = cv2.drawContours(img1, contours1, -1, (255,0,0),1)\n",
    "cont_img2 = cv2.drawContours(img2, contours2, -1, (255,0,0),1)\n",
    "cont_img3 = cv2.drawContours(img3, contours3, -1, (255,0,0),1)\n",
    "#plt.imshow(cont_img1)\n",
    "c = max(contours, key = cv2.contourArea)\n",
    "c1 = max(contours1, key = cv2.contourArea)\n",
    "c2 = max(contours2, key = cv2.contourArea)\n",
    "c3 = max(contours3, key = cv2.contourArea)\n",
    "x,y,w,h = cv2.boundingRect(c)\n",
    "x1,y1,w1,h1 = cv2.boundingRect(c1)\n",
    "x2,y2,w2,h2 = cv2.boundingRect(c2)\n",
    "x3,y3,w3,h3 = cv2.boundingRect(c3)\n",
    "cv2.rectangle(img,(x,y),(x+w,y+h),(255,0,0),1)\n",
    "cv2.rectangle(img1,(x1,y1),(x1+w1,y1+h1),(255,0,0),1)\n",
    "cv2.rectangle(img2,(x2,y2),(x2+w2,y2+h2),(255,0,0),1)\n",
    "cv2.rectangle(img3,(x3,y3),(x3+w3,y3+h3),(255,0,0),1)\n",
    "cropped = copy[y:y+h,x:x+w]\n",
    "cropped1 = copy1[y:y1+h1,x:x1+w1]\n",
    "cropped2 = copy2[y:y2+h2,x:x2+w2]\n",
    "cropped3 = copy3[y:y3+h3,x:x3+w3]\n",
    "gray = cv2.cvtColor(cropped,cv2.COLOR_RGB2GRAY)\n",
    "gray1 = cv2.cvtColor(cropped1,cv2.COLOR_RGB2GRAY)\n",
    "gray2 = cv2.cvtColor(cropped2,cv2.COLOR_RGB2GRAY)\n",
    "gray3 = cv2.cvtColor(cropped3,cv2.COLOR_RGB2GRAY)\n",
    "#plt.imshow(cropped)\n",
    "#plt.hist(gray.ravel())\n",
    "#plt.hist(gray1.ravel())\n",
    "cv2.imshow('1',gray)\n",
    "cv2.imshow('2',gray1)\n",
    "cv2.imshow('3',gray2)\n",
    "cv2.imshow('4',gray3)\n",
    "cv2.waitKey()\n",
    "cv2.destroyAllWindows()"
   ]
  },
  {
   "cell_type": "code",
   "execution_count": null,
   "metadata": {},
   "outputs": [],
   "source": [
    "plt.hist([gray.ravel(),gray1.ravel(),gray2.ravel(),gray3.ravel()],bins=3)"
   ]
  },
  {
   "cell_type": "code",
   "execution_count": 10,
   "metadata": {},
   "outputs": [
    {
     "data": {
      "text/plain": [
       "<matplotlib.image.AxesImage at 0x237fe04b910>"
      ]
     },
     "execution_count": 10,
     "metadata": {},
     "output_type": "execute_result"
    },
    {
     "data": {
      "image/png": "[encoded data removed]",
      "text/plain": [
       "<Figure size 432x288 with 1 Axes>"
      ]
     },
     "metadata": {
      "needs_background": "light"
     },
     "output_type": "display_data"
    }
   ],
   "source": [
    "test=cv2.imread(r'C:\\Users\\ASUS\\Desktop\\our project\\Dataset\\axial - 8 slices\\Alzheimer_s Dataset\\train\\NonDemented\\nonDem0.jpg')\n",
    "low = np.array([20,20,20])\n",
    "high = np.array([250,250,250])\n",
    "mask = cv2.inRange(test,low,high)\n",
    "kernel = np.ones_like((3,3),np.uint8)\n",
    "dilation = cv2.dilate(mask,kernel,iterations = 3)\n",
    "erosion = cv2.erode(dilation,kernel,iterations = 3)\n",
    "plt.imshow(erosion,'gray')"
   ]
  },
  {
   "cell_type": "code",
   "execution_count": 12,
   "metadata": {},
   "outputs": [
    {
     "name": "stdout",
     "output_type": "stream",
     "text": [
      "(208, 176)\n",
      "17931\n"
     ]
    }
   ],
   "source": [
    "print(erosion.shape)\n",
    "number_of_black_pix = np.sum(erosion == 0) \n",
    "print(number_of_black_pix)"
   ]
  },
  {
   "cell_type": "code",
   "execution_count": null,
   "metadata": {},
   "outputs": [],
   "source": []
  }
 ],
 "metadata": {
  "kernelspec": {
   "display_name": "Python 3",
   "language": "python",
   "name": "python3"
  },
  "language_info": {
   "codemirror_mode": {
    "name": "ipython",
    "version": 3
   },
   "file_extension": ".py",
   "mimetype": "text/x-python",
   "name": "python",
   "nbconvert_exporter": "python",
   "pygments_lexer": "ipython3",
   "version": "3.8.5"
  }
 },
 "nbformat": 4,
 "nbformat_minor": 4
}
