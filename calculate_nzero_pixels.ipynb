{
 "cells": [
  {
   "cell_type": "code",
   "execution_count": 8,
   "metadata": {},
   "outputs": [],
   "source": [
    "import numpy as np\n",
    "import matplotlib.pyplot as plt\n",
    "import os\n",
    "import cv2"
   ]
  },
  {
   "cell_type": "code",
   "execution_count": 9,
   "metadata": {},
   "outputs": [],
   "source": [
    "DATADIR=r\"C:\\Users\\ASUS\\Desktop\\our project\\Dataset\\Alzheimer_s Dataset\\train\"\n",
    "CATEGORIES=[\"MildDemented\",\"ModerateDemented\",\"NonDemented\",\"VeryMildDemented\"]\n",
    "ksize=10\n",
    "sigma=0.2\n",
    "theta=1*np.pi/4\n",
    "lamda=1*np.pi/6\n",
    "gamma=0.3\n",
    "phi=0\n",
    "mi=[]\n",
    "mo=[]\n",
    "non=[]\n",
    "vmi=[]"
   ]
  },
  {
   "cell_type": "code",
   "execution_count": 10,
   "metadata": {},
   "outputs": [
    {
     "name": "stdout",
     "output_type": "stream",
     "text": [
      "length mild array 716\n",
      "length moderate array 52\n",
      "length non array 2560\n",
      "length very mild array 1792\n"
     ]
    }
   ],
   "source": [
    "for category in CATEGORIES:  \n",
    "    path = os.path.join(DATADIR,category)  \n",
    "    for img in os.listdir(path):  # iterate over each image\n",
    "        img_array = cv2.imread(os.path.join(path,img))  # convert to array\n",
    "        \n",
    "        class_num = CATEGORIES.index(category)\n",
    "        kernel = cv2.getGaborKernel((ksize, ksize), sigma, theta, lamda, gamma, phi, ktype=cv2.CV_32F)\n",
    "        fimg = cv2.filter2D(img_array , cv2.CV_8UC3, kernel)\n",
    "        lower = np.array([120,120,120])\n",
    "        higher = np.array([255,255,255])\n",
    "        mask = cv2.inRange(fimg ,lower,higher)\n",
    "        low = np.array([20,20,20])\n",
    "        high = np.array([60,60,60])\n",
    "        mask1 = cv2.inRange(fimg ,low,high)\n",
    "        contours, hierarchy = cv2.findContours(mask, cv2.RETR_EXTERNAL, cv2.CHAIN_APPROX_NONE)\n",
    "        contours1, hierarchy1 = cv2.findContours(mask1, cv2.RETR_EXTERNAL, cv2.CHAIN_APPROX_NONE)\n",
    "        cont_img = cv2.drawContours(fimg , contours, -1, (0,0,0), -1)\n",
    "        cont_img1 = cv2.drawContours(fimg , contours1, -1, (0,0,0), -1)\n",
    "        #plt.imshow(fimg , cmap='gray')  # graph it\n",
    "        \n",
    "        cv2.ellipse(fimg,(87,100),(40,60),0,0,360,(0,0,0),-1)\n",
    "        #plt.imshow(fimg)\n",
    "        #print(fimg.shape)\n",
    "        fimg = cv2.cvtColor(fimg,cv2.COLOR_RGB2GRAY)\n",
    "        nzCount = cv2.countNonZero(fimg)\n",
    "        #print(nzCount ,end= \"   \")\n",
    "        #print(class_num,end=\"    \")\n",
    "        #cv2.imwrite('img.jpg',fimg)\n",
    "        if class_num == 0:\n",
    "            mi.append(nzCount)\n",
    "        elif class_num == 1:\n",
    "            mo.append(nzCount)\n",
    "        elif class_num == 2:\n",
    "            non.append(nzCount)\n",
    "        elif class_num == 3:\n",
    "            vmi.append(nzCount)\n",
    "        #break  # we just want one for now so break\n",
    "    #break  #...and one more!\n",
    "print(\"length mild array\",len(mi))\n",
    "print(\"length moderate array\",len(mo))\n",
    "print(\"length non array\",len(non))\n",
    "print(\"length very mild array\",len(vmi))\n",
    "    "
   ]
  },
  {
   "cell_type": "code",
   "execution_count": 11,
   "metadata": {},
   "outputs": [
    {
     "name": "stdout",
     "output_type": "stream",
     "text": [
      "5801    2734\n",
      "3763.7611731843576\n"
     ]
    }
   ],
   "source": [
    "maxmi = np.max(mi)\n",
    "minmi = np.min(mi)\n",
    "avg0 = np.average(mi)\n",
    "print(maxmi,\"  \",minmi)\n",
    "print(avg0)"
   ]
  },
  {
   "cell_type": "code",
   "execution_count": 12,
   "metadata": {},
   "outputs": [
    {
     "name": "stdout",
     "output_type": "stream",
     "text": [
      "4664    3362\n",
      "3918.653846153846\n"
     ]
    }
   ],
   "source": [
    "maxmo = np.max(mo)\n",
    "minmo = np.min(mo)\n",
    "avg1 = np.average(mo)\n",
    "print(maxmo,\"  \",minmo)\n",
    "print(avg1)"
   ]
  },
  {
   "cell_type": "code",
   "execution_count": 13,
   "metadata": {},
   "outputs": [
    {
     "name": "stdout",
     "output_type": "stream",
     "text": [
      "7626    2143\n",
      "3400.471484375\n"
     ]
    }
   ],
   "source": [
    "maxnon = np.max(non)\n",
    "minnon = np.min(non)\n",
    "avg2 = np.average(non)\n",
    "print(maxnon,\"  \",minnon)\n",
    "print(avg2)"
   ]
  },
  {
   "cell_type": "code",
   "execution_count": 14,
   "metadata": {},
   "outputs": [
    {
     "name": "stdout",
     "output_type": "stream",
     "text": [
      "6226    2390\n",
      "3714.7059151785716\n"
     ]
    }
   ],
   "source": [
    "maxvmi = np.max(vmi)\n",
    "minvmi = np.min(vmi)\n",
    "avg3 = np.average(vmi)\n",
    "print(maxvmi,\"  \",minvmi)\n",
    "print(avg3)"
   ]
  },
  {
   "cell_type": "code",
   "execution_count": null,
   "metadata": {},
   "outputs": [],
   "source": []
  }
 ],
 "metadata": {
  "kernelspec": {
   "display_name": "Python 3",
   "language": "python",
   "name": "python3"
  },
  "language_info": {
   "codemirror_mode": {
    "name": "ipython",
    "version": 3
   },
   "file_extension": ".py",
   "mimetype": "text/x-python",
   "name": "python",
   "nbconvert_exporter": "python",
   "pygments_lexer": "ipython3",
   "version": "3.8.5"
  }
 },
 "nbformat": 4,
 "nbformat_minor": 4
}
